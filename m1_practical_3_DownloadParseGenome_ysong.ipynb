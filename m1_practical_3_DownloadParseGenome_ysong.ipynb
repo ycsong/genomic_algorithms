{
 "cells": [
  {
   "cell_type": "code",
   "execution_count": 2,
   "id": "8da4400e",
   "metadata": {},
   "outputs": [
    {
     "name": "stdout",
     "output_type": "stream",
     "text": [
      "Collecting wget\n",
      "  Downloading wget-3.2.zip (10 kB)\n",
      "Building wheels for collected packages: wget\n",
      "  Building wheel for wget (setup.py): started\n",
      "  Building wheel for wget (setup.py): finished with status 'done'\n",
      "  Created wheel for wget: filename=wget-3.2-py3-none-any.whl size=9675 sha256=4f230697e259d821fa50729ce4885cf6ff61868a7559dbe6e1a6abe17ab240ec\n",
      "  Stored in directory: c:\\users\\young\\appdata\\local\\pip\\cache\\wheels\\04\\5f\\3e\\46cc37c5d698415694d83f607f833f83f0149e49b3af9d0f38\n",
      "Successfully built wget\n",
      "Installing collected packages: wget\n",
      "Successfully installed wget-3.2\n",
      "Note: you may need to restart the kernel to use updated packages.\n"
     ]
    }
   ],
   "source": [
    "pip install wget"
   ]
  },
  {
   "cell_type": "code",
   "execution_count": 6,
   "id": "e43faa54",
   "metadata": {},
   "outputs": [
    {
     "name": "stdout",
     "output_type": "stream",
     "text": [
      "\n",
      "Saved under lambda_virus.fa\n"
     ]
    }
   ],
   "source": [
    "!python -m wget http://d28rh4a8wq0iu5.cloudfront.net/ads1/data/lambda_virus.fa"
   ]
  },
  {
   "cell_type": "code",
   "execution_count": 9,
   "id": "49fdf6fc",
   "metadata": {},
   "outputs": [
    {
     "data": {
      "text/plain": [
       "'GGGCGGCGACCTCGCGGGTTTTCGCTATTTATGAAAATTTTCCGGTTTAAGGCGTTTCCGTTCTTCTTCGTCATAACTTAATGTTTTTATTTAAAATACC'"
      ]
     },
     "execution_count": 9,
     "metadata": {},
     "output_type": "execute_result"
    }
   ],
   "source": [
    "# read the genome file\n",
    "def read_genome(genome_file):\n",
    "    genome = ''\n",
    "    with open(genome_file,'r') as genome_file_handle:\n",
    "        for genome_line in genome_file_handle:\n",
    "            if not genome_line[0] == '>':\n",
    "                genome += genome_line.rstrip()\n",
    "    \n",
    "    return genome\n",
    "\n",
    "genome = read_genome('lambda_virus.fa')\n",
    "genome[:100]"
   ]
  },
  {
   "cell_type": "code",
   "execution_count": 10,
   "id": "0426d697",
   "metadata": {},
   "outputs": [
    {
     "data": {
      "text/plain": [
       "48502"
      ]
     },
     "execution_count": 10,
     "metadata": {},
     "output_type": "execute_result"
    }
   ],
   "source": [
    "len(genome)"
   ]
  },
  {
   "cell_type": "code",
   "execution_count": 14,
   "id": "4b457682",
   "metadata": {},
   "outputs": [
    {
     "name": "stdout",
     "output_type": "stream",
     "text": [
      "{'A': 12334, 'C': 11362, 'G': 12820, 'T': 11986}\n"
     ]
    }
   ],
   "source": [
    "# count the frequency of each base in the genome\n",
    "def count_frequency(genome):\n",
    "    base_dict = {'A':0, 'C':0, 'G':0, 'T':0}\n",
    "    \n",
    "    for i in range(len(genome)):\n",
    "        base_char = genome[i]\n",
    "        \n",
    "        if base_char in base_dict.keys():\n",
    "            base_count = base_dict[base_char]\n",
    "            base_count += 1\n",
    "            base_dict[base_char] = base_count\n",
    "    \n",
    "    return base_dict\n",
    "\n",
    "genome = read_genome('lambda_virus.fa')\n",
    "base_freq = count_frequency(genome)\n",
    "print(base_freq)"
   ]
  },
  {
   "cell_type": "code",
   "execution_count": 15,
   "id": "2d372959",
   "metadata": {},
   "outputs": [
    {
     "data": {
      "text/plain": [
       "Counter({'G': 12820, 'C': 11362, 'A': 12334, 'T': 11986})"
      ]
     },
     "execution_count": 15,
     "metadata": {},
     "output_type": "execute_result"
    }
   ],
   "source": [
    "import collections\n",
    "collections.Counter(genome)"
   ]
  },
  {
   "cell_type": "code",
   "execution_count": null,
   "id": "2247fc8a",
   "metadata": {},
   "outputs": [],
   "source": []
  }
 ],
 "metadata": {
  "kernelspec": {
   "display_name": "Python 3 (ipykernel)",
   "language": "python",
   "name": "python3"
  },
  "language_info": {
   "codemirror_mode": {
    "name": "ipython",
    "version": 3
   },
   "file_extension": ".py",
   "mimetype": "text/x-python",
   "name": "python",
   "nbconvert_exporter": "python",
   "pygments_lexer": "ipython3",
   "version": "3.9.12"
  }
 },
 "nbformat": 4,
 "nbformat_minor": 5
}
