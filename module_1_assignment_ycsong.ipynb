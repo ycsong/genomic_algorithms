{
 "cells": [
  {
   "cell_type": "code",
   "execution_count": 1,
   "id": "acc29ccd",
   "metadata": {},
   "outputs": [
    {
     "name": "stdout",
     "output_type": "stream",
     "text": [
      "\n",
      "Saved under lambda_virus (1).fa\n"
     ]
    }
   ],
   "source": [
    "# Download the lambda virus genome\n",
    "\n",
    "!python -m wget https://d28rh4a8wq0iu5.cloudfront.net/ads1/data/lambda_virus.fa"
   ]
  },
  {
   "cell_type": "code",
   "execution_count": 2,
   "id": "d51eb011",
   "metadata": {},
   "outputs": [],
   "source": [
    "# Read the genome\n",
    "\n",
    "def read_genome(genome_file):\n",
    "    genome = ''\n",
    "    with open(genome_file,'r') as genome_file_handle:\n",
    "        for genome_line in genome_file_handle:\n",
    "            if not genome_line[0] == '>':\n",
    "                genome += genome_line.rstrip()\n",
    "    \n",
    "    return genome\n",
    "\n",
    "genome = read_genome(\"lambda_virus (1).fa\")"
   ]
  },
  {
   "cell_type": "code",
   "execution_count": 4,
   "id": "3779eb89",
   "metadata": {},
   "outputs": [],
   "source": [
    "# Reverse complement of a read/sequence\n",
    "\n",
    "def get_reverse_complement(s1):\n",
    "    compl_str = ''\n",
    "    complement = {'A':'T', 'C':'G', 'G':'C', 'T':'A', 'N':'N'}\n",
    "    for i in range(len(s1)):\n",
    "        nuc_at_i = s1[i]\n",
    "        comp_at_i = complement[nuc_at_i]\n",
    "        compl_str = comp_at_i + compl_str\n",
    "    \n",
    "    return compl_str"
   ]
  },
  {
   "cell_type": "code",
   "execution_count": 13,
   "id": "0d80a4c9",
   "metadata": {},
   "outputs": [
    {
     "name": "stdout",
     "output_type": "stream",
     "text": [
      "[49, 117, 144, 151, 401, 417, 444, 450, 457, 529, 573, 909, 1325, 1332, 1349, 1462, 1483, 1566, 1688, 1806, 1816, 1908, 2037, 2079, 2205, 2470, 2472, 2547, 2635, 2706, 2729, 3049, 3259, 3268, 3295, 3489, 3616, 3658, 3937, 3979, 4003, 4006, 4054, 4087, 4192, 4258, 4285, 4408, 4457, 4521, 4589, 4626, 4805, 4898, 5021, 5219, 5234, 5429, 5532, 5547, 5864, 5969, 6026, 6135, 6141, 6406, 6495, 6606, 6657, 6702, 6777, 6816, 6849, 6868, 6876, 7029, 7152, 7193, 7196, 7349, 7490, 7583, 7841, 7977, 8055, 8184, 8245, 8261, 8591, 8708, 8792, 8858, 8902, 9033, 9062, 9111, 9120, 9130, 9152, 9204, 9243, 9259, 9452, 9501, 9861, 9888, 10174, 10530, 10555, 10608, 10619, 10666, 10776, 10842, 10845, 10929, 10944, 11049, 11175, 11199, 11266, 11421, 11438, 11505, 11547, 11679, 11775, 11907, 11994, 12094, 12111, 12147, 12150, 12157, 12175, 12343, 12433, 12449, 12594, 12838, 12927, 13075, 13259, 13271, 13274, 13523, 13877, 13882, 13933, 13966, 14187, 14566, 14603, 14751, 14797, 14902, 15071, 15086, 15298, 15371, 15385, 15547, 15559, 15661, 15854, 15994, 16168, 16318, 16420, 16504, 16765, 16916, 17290, 17563, 17790, 17812, 18005, 18025, 18040, 18143, 18157, 18541, 18596, 18654, 18683, 19038, 19325, 19363, 19457, 19462, 19533, 19540, 19666, 19669, 19806, 19818, 19995, 20025, 20184, 20220, 20356, 20367, 20583, 20723, 20786, 20837, 20860, 20922, 20951, 21259, 21305, 21341, 21379, 21655, 22169, 22219, 22530, 22549, 22643, 22660, 22912, 22915, 23000, 23117, 23159, 23266, 23297, 23320, 23333, 23646, 23923, 24145, 24310, 24324, 24507, 24885, 24891, 24926, 25052, 25072, 25190, 25219, 25224, 25246, 25399, 25572, 25648, 25684, 25687, 25732, 25822, 25828, 25834, 25870, 26025, 26071, 26119, 26158, 26211, 26282, 26539, 26622, 26629, 26699, 26923, 26963, 27078, 27108, 27262, 27349, 27391, 27514, 27607, 27653, 27714, 27954, 28049, 28054, 28057, 28169, 28187, 28244, 28351, 28406, 28617, 28706, 28728, 28756, 28867, 28899, 29043, 29056, 29071, 29209, 29250, 29262, 29291, 29391, 29423, 29548, 29577, 29661, 29676, 29768, 29798, 29850, 29950, 30029, 30045, 30223, 30334, 30470, 30494, 31036, 31101, 31153, 31160, 31218, 31299, 31350, 31424, 31436, 31442, 31465, 31477, 31530, 31547, 31580, 31702, 31763, 31772, 31790, 31859, 31875, 31975, 32152, 32197, 32232, 32271, 32320, 32406, 32495, 32509, 32521, 32614, 32715, 32745, 32801, 32948, 32996, 33009, 33118, 33271, 33284, 33338, 33357, 33365, 33436, 33493, 33498, 33625, 33657, 33867, 34020, 34077, 34156, 34249, 34275, 34293, 34428, 34504, 34519, 34542, 34576, 34604, 34967, 35018, 35035, 35070, 35097, 35214, 35217, 35366, 35401, 35404, 35904, 36039, 36171, 36185, 36263, 36401, 36611, 36725, 36818, 37244, 37434, 37678, 37693, 37797, 37884, 38023, 38134, 38396, 38552, 38642, 38675, 38756, 38770, 38884, 38960, 39173, 39424, 39485, 39515, 39539, 39636, 39781, 39972, 39991, 40038, 40126, 40158, 40227, 40435, 40508, 40515, 40554, 40573, 40595, 40613, 40670, 40702, 40811, 40933, 40960, 41011, 41046, 41088, 41289, 41335, 41386, 41427, 41761, 41768, 41807, 41849, 41927, 42090, 42210, 42515, 42541, 42562, 42601, 42645, 42696, 42735, 42871, 42883, 42919, 42956, 42975, 43120, 43172, 43210, 43276, 43332, 43531, 43539, 43662, 43781, 43890, 43915, 44066, 44301, 44303, 44328, 44683, 44806, 44910, 44965, 45270, 45345, 45367, 45369, 45438, 45484, 45517, 45535, 45734, 46050, 46101, 46173, 46594, 46794, 46902, 47059, 47153, 47276, 47651, 48422, 48445]\n",
      "49\n"
     ]
    }
   ],
   "source": [
    "# 'p' is the fragment of string (pattern) we want to match against the 't' (text) of reference genome\n",
    "# We modify this algorithm to add a feature that also matches the reverse complement of p against the genome\n",
    "\n",
    "def sw_naive_exact(p, t):\n",
    "    occurrences = [] # keep track of indices where p matches t\n",
    "    \n",
    "    p_rev_comp = get_reverse_complement(p)\n",
    "    \n",
    "    for i in range(len(t) - len(p) + 1): # every position in t where p could start without running past the end of t \n",
    "        match = True\n",
    "        \n",
    "        for j in range(len(p)):\n",
    "            if not (t[i+j] == p[j] or t[i+j] == p_rev_comp[j]) :\n",
    "                match = False\n",
    "                break\n",
    "        \n",
    "        if match:\n",
    "            occurrences.append(i)\n",
    "    \n",
    "    return occurrences\n",
    "\n",
    "# test\n",
    "\n",
    "p = 'AGTCGA' # reverse complement would be TGA\n",
    "#t = 'ATTCAATCAGTGA'\n",
    "\n",
    "ne_matches = sw_naive_exact(p, genome)\n",
    "print(ne_matches)\n",
    "#print(len(ne_matches))\n",
    "print(min(ne_matches))"
   ]
  },
  {
   "cell_type": "code",
   "execution_count": 16,
   "id": "579abaa1",
   "metadata": {},
   "outputs": [
    {
     "name": "stdout",
     "output_type": "stream",
     "text": [
      "[49, 282, 299, 302, 380, 1560, 1650, 2235, 2277, 2400, 2562, 2565, 2729, 2823, 3160, 3181, 3946, 4210, 4294, 4309, 4405, 4580, 5069, 5159, 5189, 5231, 5331, 5519, 5737, 5882, 5993, 5996, 6011, 6312, 6522, 6585, 6606, 7316, 7394, 7819, 7904, 7966, 7998, 8534, 8648, 8946, 9339, 9354, 9530, 9842, 9966, 10041, 10250, 10416, 10445, 10484, 10527, 10874, 11193, 11292, 11505, 11568, 11655, 11745, 11838, 12078, 12180, 12222, 12697, 12745, 12819, 12880, 12935, 13011, 13087, 13256, 13415, 13526, 13813, 14259, 15385, 15473, 16192, 17101, 17437, 17755, 17936, 17989, 18016, 18040, 18727, 18853, 18911, 19232, 19263, 19310, 19833, 19929, 19932, 19947, 19980, 20793, 20802, 21305, 21528, 21627, 21684, 22414, 22660, 22670, 22787, 23326, 24063, 24145, 24409, 24595, 24681, 25120, 25139, 25210, 25381, 25384, 25648, 25664, 25773, 25987, 26196, 26208, 26576, 26587, 26653, 26736, 27892, 27967, 28042, 28622, 28840, 28976, 29119, 30029, 30530, 30673, 30902, 31619, 31645, 31682, 31843, 31859, 32069, 33180, 33365, 33715, 33952, 34321, 34421, 34841, 34848, 34956, 35145, 35253, 35289, 35643, 36185, 36687, 36869, 38030, 38197, 38381, 38479, 38737, 39282, 39600, 39681, 39786, 39828, 39954, 40119, 40337, 40508, 40781, 40887, 40890, 40946, 41110, 41225, 41264, 41282, 41324, 41570, 41693, 41717, 41768, 42079, 42082, 42266, 42353, 43039, 43184, 43389, 43662, 43689, 45033, 45727, 45763, 45781, 45790, 46173, 46215, 47028, 47220, 47930, 48101, 48256, 48301, 48411]\n",
      "49\n"
     ]
    }
   ],
   "source": [
    "# more forgving version of naive exact, allowing up to 2 mismatches (disregarding the reverse complement)\n",
    "\n",
    "def naive_exact_2mm(p, t):\n",
    "    occurrences = [] # keep track of indices where p matches t\n",
    "    \n",
    "    for i in range(len(t) - len(p) + 1): # every position in t where p could start without running past the end of t \n",
    "        match = True\n",
    "        \n",
    "        mismatch_counter = 0\n",
    "        for j in range(len(p)):\n",
    "            if not (t[i+j] == p[j]) :\n",
    "                mismatch_counter += 1\n",
    "                \n",
    "                if mismatch_counter > 2:\n",
    "                    match = False\n",
    "                    break\n",
    "        \n",
    "        if match:\n",
    "            occurrences.append(i)\n",
    "    \n",
    "    return occurrences\n",
    "\n",
    "p = 'AGGAGGTT' # reverse complement would be TGA\n",
    "#t = 'ATTCAATCAGTGA'\n",
    "\n",
    "ne_matches = naive_exact_2mm(p, genome)\n",
    "print(ne_matches)\n",
    "#print(len(ne_matches))\n",
    "print(min(ne_matches))"
   ]
  },
  {
   "cell_type": "code",
   "execution_count": 20,
   "id": "b2cf5dec",
   "metadata": {},
   "outputs": [
    {
     "name": "stdout",
     "output_type": "stream",
     "text": [
      "\n",
      "Saved under ERR037900_1.first1000 (1).fastq\n"
     ]
    }
   ],
   "source": [
    "# Let's find a problemic cycle in the set of reads\n",
    "!python -m wget https://d28rh4a8wq0iu5.cloudfront.net/ads1/data/ERR037900_1.first1000.fastq\n",
    "\n",
    "# Read the fastQ file\n",
    "def read_fastQ(file_name):\n",
    "    seq_list  = []\n",
    "    qual_list = []\n",
    "    \n",
    "    with open(file_name,'r') as fastq_handle:\n",
    "        while True:\n",
    "            fastq_handle.readline() # the first line, we don't really care what it is\n",
    "            sequence = fastq_handle.readline().rstrip()\n",
    "            fastq_handle.readline() # again, a placeholder that we're not concerned about\n",
    "            quality = fastq_handle.readline().rstrip()\n",
    "            \n",
    "            if len(sequence) == 0:\n",
    "                break\n",
    "                \n",
    "            seq_list.append(sequence)\n",
    "            qual_list.append(quality)\n",
    "    \n",
    "    return seq_list, qual_list\n",
    "\n",
    "real_reads, qual_reads = read_fastQ(\"ERR037900_1.first1000.fastq\")"
   ]
  },
  {
   "cell_type": "code",
   "execution_count": 28,
   "id": "a1ace4dc",
   "metadata": {},
   "outputs": [
    {
     "name": "stdout",
     "output_type": "stream",
     "text": [
      "100.0\n",
      "[384.35, 384.6, 384.0, 384.28, 384.17, 383.82, 383.62, 383.64, 383.25, 383.43, 381.94, 381.54, 380.89, 381.52, 381.53, 380.99, 380.55, 380.41, 380.67, 381.5, 380.87, 379.89, 380.09, 379.09, 380.28, 375.76, 375.14, 375.03, 375.78, 375.52, 376.29, 375.55, 375.48, 374.33, 374.02, 373.43, 371.98, 371.26, 371.58, 369.04, 367.42, 366.77, 366.45, 364.93, 365.09, 363.75, 362.05, 359.74, 358.47, 356.73, 348.32, 347.39, 343.99, 344.02, 340.25, 330.25, 328.82, 327.41, 325.73, 322.24, 308.05, 306.66, 303.43, 301.31, 294.63, 178.91, 45.26, 178.81, 178.65, 178.52, 174.66, 171.31, 171.34, 170.98, 168.52, 237.45, 239.58, 232.21, 229.02, 223.66, 209.04, 205.84, 203.83, 197.67, 190.95, 180.61, 177.57, 171.52, 169.72, 162.86, 148.11, 146.79, 143.1, 141.52, 137.34, 125.38, 122.78, 121.79, 116.76, 115.61]\n",
      "66\n"
     ]
    }
   ],
   "source": [
    "# convert phred33 to Q\n",
    "def phred33_to_Q(qual):\n",
    "    return ord(qual) - 33\n",
    "\n",
    "def average_read_length(read_list):\n",
    "    avg_length = 0\n",
    "    for read in read_list:\n",
    "        avg_length += len(read)\n",
    "    avg_length /= len(read_list)\n",
    "    return avg_length\n",
    "\n",
    "read_len_avg = average_read_length(real_reads)\n",
    "print(read_len_avg)\n",
    "        \n",
    "# Assess the qualities across all reads. How many high/low quality readings are there?\n",
    "# Generate distribution of quality values.\n",
    "def avg_Q_in_each_offset(qual_list):\n",
    "    Q_list = [0]*100\n",
    "    for qual in qual_list:\n",
    "        for i in range(len(qual)):\n",
    "            phred = qual[i]\n",
    "            converted_q = phred33_to_Q(phred)\n",
    "            #print(converted_q)\n",
    "            Q_list[i] += converted_q\n",
    "            \n",
    "    \n",
    "    for j in range(len(Q_list)):\n",
    "        Q_list[j] /= 100\n",
    "        \n",
    "    return Q_list\n",
    "\n",
    "avg_Q_list = avg_Q_in_each_offset(qual_reads)\n",
    "print(avg_Q_list)\n",
    "\n",
    "# What is the lowest average Q value in this list, and what index (i.e., offset of reads or cycle) does it exist?\n",
    "\n",
    "min_Q = min(avg_Q_list)\n",
    "\n",
    "for k in range(len(avg_Q_list)):\n",
    "    if avg_Q_list[k] == min_Q:\n",
    "        print(k)\n",
    "\n",
    "#qual_hist = create_histogram(qual_reads)\n",
    "#print(qual_hist)"
   ]
  },
  {
   "cell_type": "code",
   "execution_count": 22,
   "id": "ac21289f",
   "metadata": {},
   "outputs": [
    {
     "data": {
      "image/png": "[encoded data removed]",
      "text/plain": [
       "<Figure size 432x288 with 1 Axes>"
      ]
     },
     "metadata": {
      "needs_background": "light"
     },
     "output_type": "display_data"
    }
   ],
   "source": [
    "%matplotlib inline\n",
    "import matplotlib.pyplot as plt\n",
    "plt.bar(range(len(qual_hist)), qual_hist)\n",
    "plt.show()"
   ]
  },
  {
   "cell_type": "code",
   "execution_count": null,
   "id": "f0e56906",
   "metadata": {},
   "outputs": [],
   "source": []
  }
 ],
 "metadata": {
  "kernelspec": {
   "display_name": "Python 3 (ipykernel)",
   "language": "python",
   "name": "python3"
  },
  "language_info": {
   "codemirror_mode": {
    "name": "ipython",
    "version": 3
   },
   "file_extension": ".py",
   "mimetype": "text/x-python",
   "name": "python",
   "nbconvert_exporter": "python",
   "pygments_lexer": "ipython3",
   "version": "3.9.12"
  }
 },
 "nbformat": 4,
 "nbformat_minor": 5
}
