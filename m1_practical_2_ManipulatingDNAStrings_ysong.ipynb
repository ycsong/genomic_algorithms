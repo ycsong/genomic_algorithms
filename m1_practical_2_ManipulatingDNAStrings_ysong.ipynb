{
 "cells": [
  {
   "cell_type": "code",
   "execution_count": 1,
   "id": "71f89c64",
   "metadata": {},
   "outputs": [
    {
     "data": {
      "text/plain": [
       "'ACCA'"
      ]
     },
     "execution_count": 1,
     "metadata": {},
     "output_type": "execute_result"
    }
   ],
   "source": [
    "# find the longest common prefix between two strings\n",
    "def longest_common_prefix(s1, s2):\n",
    "    i = 0\n",
    "    while(i < len(s1) and i < len(s2) and s1[i] == s2[i]):\n",
    "        i += 1\n",
    "    \n",
    "    return s1[:i]\n",
    "\n",
    "longest_common_prefix('ACCACATT', 'ACCAGATTGA')"
   ]
  },
  {
   "cell_type": "code",
   "execution_count": 5,
   "id": "bd2e7e1c",
   "metadata": {},
   "outputs": [
    {
     "data": {
      "text/plain": [
       "True"
      ]
     },
     "execution_count": 5,
     "metadata": {},
     "output_type": "execute_result"
    }
   ],
   "source": [
    "# let's see if the two strings match exactly\n",
    "# note: there is already a built-in function like this in Python\n",
    "\n",
    "def match(s1, s2):\n",
    "    if not(len(s1) == len(s2)):\n",
    "        return False\n",
    "    \n",
    "    for i in range(len(s1)):\n",
    "        if not(s1[i] == s2[i]):\n",
    "            return False\n",
    "    \n",
    "    return True\n",
    "\n",
    "# case 1: mismatch by length\n",
    "match('ACGACC', 'CGT')\n",
    "\n",
    "# case 2: mismatch by character at index\n",
    "match('ACGACC', 'ACGTCC')\n",
    "\n",
    "# case 3: match\n",
    "match('ACGACC', 'ACGACC')"
   ]
  },
  {
   "cell_type": "code",
   "execution_count": 7,
   "id": "47d2cfc6",
   "metadata": {},
   "outputs": [
    {
     "data": {
      "text/plain": [
       "'TAGCTAAGCTGGCGT'"
      ]
     },
     "execution_count": 7,
     "metadata": {},
     "output_type": "execute_result"
    }
   ],
   "source": [
    "# get the reverse complement of a DNA strand, using dictionary\n",
    "\n",
    "def get_reverse_complement(s1):\n",
    "    compl_str = ''\n",
    "    complement = {'A':'T', 'C':'G', 'G':'C', 'T':'A'}\n",
    "    for i in range(len(s1)):\n",
    "        nuc_at_i = s1[i]\n",
    "        comp_at_i = complement[nuc_at_i]\n",
    "        compl_str = comp_at_i + compl_str\n",
    "    \n",
    "    return compl_str\n",
    "\n",
    "# testing\n",
    "get_reverse_complement('ACGCCAGCTTAGCTA')"
   ]
  },
  {
   "cell_type": "code",
   "execution_count": null,
   "id": "f5f1e165",
   "metadata": {},
   "outputs": [],
   "source": []
  }
 ],
 "metadata": {
  "kernelspec": {
   "display_name": "Python 3 (ipykernel)",
   "language": "python",
   "name": "python3"
  },
  "language_info": {
   "codemirror_mode": {
    "name": "ipython",
    "version": 3
   },
   "file_extension": ".py",
   "mimetype": "text/x-python",
   "name": "python",
   "nbconvert_exporter": "python",
   "pygments_lexer": "ipython3",
   "version": "3.9.12"
  }
 },
 "nbformat": 4,
 "nbformat_minor": 5
}
