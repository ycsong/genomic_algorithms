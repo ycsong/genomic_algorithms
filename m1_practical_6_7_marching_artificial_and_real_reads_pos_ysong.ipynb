{
 "cells": [
  {
   "cell_type": "code",
   "execution_count": 1,
   "id": "82d9389d",
   "metadata": {},
   "outputs": [
    {
     "name": "stdout",
     "output_type": "stream",
     "text": [
      "\n",
      "Saved under phix.fa\n"
     ]
    }
   ],
   "source": [
    "# Use naive exact matching algorithm to match artificial reads to genome\n",
    "\n",
    "# Download the reads\n",
    "\n",
    "!python -m wget http://d28rh4a8wq0iu5.cloudfront.net/ads1/data/phix.fa"
   ]
  },
  {
   "cell_type": "code",
   "execution_count": 45,
   "id": "4955c925",
   "metadata": {},
   "outputs": [],
   "source": [
    "# Read genome function from practical 3\n",
    "\n",
    "def read_genome(genome_file):\n",
    "    genome = ''\n",
    "    with open(genome_file,'r') as genome_file_handle:\n",
    "        for genome_line in genome_file_handle:\n",
    "            if not genome_line[0] == '>':\n",
    "                genome += genome_line.rstrip()\n",
    "    \n",
    "    return genome\n",
    "\n",
    "genome = read_genome(\"phix.fa\")"
   ]
  },
  {
   "cell_type": "code",
   "execution_count": 3,
   "id": "9e654b60",
   "metadata": {},
   "outputs": [
    {
     "name": "stdout",
     "output_type": "stream",
     "text": [
      "[2, 6]\n"
     ]
    }
   ],
   "source": [
    "# 'p' is the fragment of string (pattern) we want to match against the 't' (text) of reference genome\n",
    "def naive_exact(p, t):\n",
    "    occurrences = [] # keep track of indices where p matches t\n",
    "    \n",
    "    for i in range(len(t) - len(p) + 1): # every position in t where p could start without running past the end of t \n",
    "        match = True\n",
    "        \n",
    "        for j in range(len(p)):\n",
    "            if not t[i+j] == p[j]:\n",
    "                match = False\n",
    "                break\n",
    "        \n",
    "        if match:\n",
    "            occurrences.append(i)\n",
    "    \n",
    "    return occurrences\n",
    "\n",
    "# test\n",
    "\n",
    "p = 'TCA'\n",
    "t = 'ATTCAATCAG'\n",
    "\n",
    "ne_matches = naive_exact(p, t)\n",
    "print(ne_matches)\n",
    "    "
   ]
  },
  {
   "cell_type": "code",
   "execution_count": 5,
   "id": "c189d4ca",
   "metadata": {},
   "outputs": [],
   "source": [
    "# Generate random reads by taking fragments of genome from random indices\n",
    "\n",
    "import random\n",
    "\n",
    "def generateReads(genome, numReads, readLen):\n",
    "    ''' Generate reads from random positions in the given genome. '''\n",
    "    reads = []\n",
    "    for _ in range(numReads):\n",
    "        start = random.randint(0, len(genome)-readLen) - 1\n",
    "        reads.append(genome[start : start+readLen])\n",
    "    return reads"
   ]
  },
  {
   "cell_type": "code",
   "execution_count": 7,
   "id": "ea69b715",
   "metadata": {},
   "outputs": [
    {
     "name": "stdout",
     "output_type": "stream",
     "text": [
      "100 / 100 reads matched\n"
     ]
    }
   ],
   "source": [
    "reads = generateReads(genome, 100, 100)\n",
    "\n",
    "numMatched = 0 \n",
    "\n",
    "for read_p in reads:\n",
    "    list_matches = naive_exact(read_p, genome)\n",
    "    \n",
    "    if len(list_matches) > 0:\n",
    "        numMatched += 1\n",
    "        \n",
    "print('%d / %d reads matched' % (numMatched, len(reads)))\n",
    "        "
   ]
  },
  {
   "cell_type": "code",
   "execution_count": 8,
   "id": "788f8e66",
   "metadata": {},
   "outputs": [
    {
     "name": "stdout",
     "output_type": "stream",
     "text": [
      "\n",
      "Saved under ERR266411_1.first1000.fastq\n"
     ]
    }
   ],
   "source": [
    "# Beginning of practical 7, matching real reads\n",
    "# First download the set of real reads\n",
    "\n",
    "!python -m wget http://d28rh4a8wq0iu5.cloudfront.net/ads1/data/ERR266411_1.first1000.fastq"
   ]
  },
  {
   "cell_type": "code",
   "execution_count": 42,
   "id": "9be2797a",
   "metadata": {},
   "outputs": [
    {
     "name": "stdout",
     "output_type": "stream",
     "text": [
      "['TAAACAAGCAGTAGTAATTCCTGCTTTATCAAGATAATTTTTCGACTCATCAGAAATATCCGAAAGTGTTAACTTCTGCGTCATGGAAGCGATAAAACTC', 'AACAAGCAGTAGTAATTCCTGCTTTATCAAGATAATTTTTCGACTCATCAGAAATATACGAAAGTGTTAACTTCTGCGTCATGGACACGAAAAAACTCCC', 'TAAACAAGCAGTAGTAATTCCTGCTTTATCAAGATAATTTTTCGACTCATCAGAAATATCCGAAAGTGTTAACTTCTGCGTCATGGAAGCGATAAAACTC', 'AACAAGCAGTAGTAATTCCTGCTTTATCAAGATAATTTTTCGACTCATCAGAAATATCCGAAAGTGTTAACTTCTGCGTCATGGAAGCGATAAAACTCTG', 'AGCCGACGTTTTGGCGGCGCAACCTGTGACGACAAATCTGCTCAAATTTATGCGCGCTTCGATAAAAATGATTGGCGTATCCAACCTGCAGAGTTTTATC']\n"
     ]
    }
   ],
   "source": [
    "# Read the fastQ file\n",
    "def read_fastQ(file_name):\n",
    "    seq_list  = []\n",
    "    qual_list = []\n",
    "    \n",
    "    with open(file_name,'r') as fastq_handle:\n",
    "        while True:\n",
    "            fastq_handle.readline() # the first line, we don't really care what it is\n",
    "            sequence = fastq_handle.readline().rstrip()\n",
    "            fastq_handle.readline() # again, a placeholder that we're not concerned about\n",
    "            quality = fastq_handle.readline().rstrip()\n",
    "            \n",
    "            if len(sequence) == 0:\n",
    "                break\n",
    "                \n",
    "            seq_list.append(sequence)\n",
    "            qual_list.append(quality)\n",
    "    \n",
    "    return seq_list, qual_list\n",
    "\n",
    "real_reads, _ = read_fastQ(\"ERR266411_1.first1000.fastq\")\n",
    "print(seqs[:5])"
   ]
  },
  {
   "cell_type": "code",
   "execution_count": 44,
   "id": "648b0d8a",
   "metadata": {},
   "outputs": [
    {
     "name": "stdout",
     "output_type": "stream",
     "text": [
      "35 / 1000 real reads (including the reverse complements) matched to our genome\n"
     ]
    }
   ],
   "source": [
    "# Genome is double stranded, and the reads could come from either strand\n",
    "# The way we set our code, we are looking at only one of those strands.\n",
    "\n",
    "# Match the reverse complement reads to the genome\n",
    "\n",
    "def get_reverse_complement(s1):\n",
    "    compl_str = ''\n",
    "    complement = {'A':'T', 'C':'G', 'G':'C', 'T':'A', 'N':'N'}\n",
    "    for i in range(len(s1)):\n",
    "        nuc_at_i = s1[i]\n",
    "        comp_at_i = complement[nuc_at_i]\n",
    "        compl_str = comp_at_i + compl_str\n",
    "    \n",
    "    return compl_str\n",
    "\n",
    "\n",
    "for real_read_p in real_reads:\n",
    "    list_matches = naive_exact(real_read_p, genome)\n",
    "    #list_matches = naive_exact(real_read_p[:30], genome) # whole reads to reverse complement\n",
    "    #rev_compl = get_reverse_complement(real_read_p[:30])\n",
    "    #list_matches.extend(naive_exact(rev_compl, genome))\n",
    "    \n",
    "    if len(list_matches) > 0:\n",
    "        numMatched += 1\n",
    "        \n",
    "print('%d / %d real reads (including the reverse complements) matched to our genome' % (numMatched, len(real_reads)))"
   ]
  },
  {
   "cell_type": "code",
   "execution_count": 38,
   "id": "b2324012",
   "metadata": {},
   "outputs": [
    {
     "name": "stdout",
     "output_type": "stream",
     "text": [
      "7 / 1000 real reads matched to our genome\n"
     ]
    }
   ],
   "source": [
    "numMatched = 0 \n",
    "\n",
    "#for real_read_p in real_reads:\n",
    "#    list_matches = naive_exact(real_read_p, genome)\n",
    "    \n",
    "#    if len(list_matches) > 0:\n",
    "#        numMatched += 1\n",
    "        \n",
    "#print('%d / %d real reads matched to our genome' % (numMatched, len(real_reads)))"
   ]
  },
  {
   "cell_type": "code",
   "execution_count": 15,
   "id": "4383e6e7",
   "metadata": {},
   "outputs": [
    {
     "name": "stdout",
     "output_type": "stream",
     "text": [
      "466 / 1000 real reads matched to our genome\n"
     ]
    }
   ],
   "source": [
    "# let's find out why there are so few reads matched the genome\n",
    "# Is it the sequencing error?\n",
    "\n",
    "# Take the part of the read (i.e., first 30 bases) and try to match that\n",
    "\n",
    "#for real_read_p in real_reads:\n",
    "#    list_matches = naive_exact(real_read_p[:30], genome) # first 30 bases\n",
    "    \n",
    "#    if len(list_matches) > 0:\n",
    "#        numMatched += 1\n",
    "        \n",
    "#print('%d / %d real partial reads matched to our genome' % (numMatched, len(real_reads)))\n"
   ]
  },
  {
   "cell_type": "code",
   "execution_count": 17,
   "id": "6ba9f74b",
   "metadata": {
    "scrolled": true
   },
   "outputs": [
    {
     "name": "stdout",
     "output_type": "stream",
     "text": [
      "1381 / 1000 real partial reads matched to reverse complement of our genome\n"
     ]
    }
   ],
   "source": []
  },
  {
   "cell_type": "code",
   "execution_count": null,
   "id": "fa025976",
   "metadata": {},
   "outputs": [],
   "source": []
  }
 ],
 "metadata": {
  "kernelspec": {
   "display_name": "Python 3 (ipykernel)",
   "language": "python",
   "name": "python3"
  },
  "language_info": {
   "codemirror_mode": {
    "name": "ipython",
    "version": 3
   },
   "file_extension": ".py",
   "mimetype": "text/x-python",
   "name": "python",
   "nbconvert_exporter": "python",
   "pygments_lexer": "ipython3",
   "version": "3.9.12"
  }
 },
 "nbformat": 4,
 "nbformat_minor": 5
}
