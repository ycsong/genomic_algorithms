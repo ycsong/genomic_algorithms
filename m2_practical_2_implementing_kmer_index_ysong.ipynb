{
 "cells": [
  {
   "cell_type": "code",
   "execution_count": 1,
   "id": "c1016247",
   "metadata": {},
   "outputs": [],
   "source": [
    "import bisect\n",
    "import sys"
   ]
  },
  {
   "cell_type": "code",
   "execution_count": 37,
   "id": "b109972c",
   "metadata": {},
   "outputs": [],
   "source": [
    "class Index(object):\n",
    "    # Preprocess the string\n",
    "    #def __init__(self, t, k): # pass in text and kmer legnth k\n",
    "    #    ''' Create index from all substrings of size 'length' '''\n",
    "    #    self.k = k  # k-mer length (k)\n",
    "    #    self.index = []\n",
    "        \n",
    "        # loop through t and get all the substrings starting from each index\n",
    "    #    for i in range(len(t) - k + 1):  # for each k-mer\n",
    "    #        self.index.append((t[i:i+k], i))  # add (k-mer, offset) pair\n",
    "    #    self.index.sort()  # alphabetize by k-mer\n",
    "    \n",
    "    # Young's version of initialization that uses dictionary instead of a list\n",
    "    def __init__(self, t, k):\n",
    "        ''' Create index from all substrings of size 'length' '''\n",
    "        self.k = k # k-mer length(k)\n",
    "        self.index = {}\n",
    "        \n",
    "        for i in range(len(t) - k + 1): # for each k-mer\n",
    "            kmer_key = t[i:i+k]\n",
    "            index_list = []\n",
    "            if not kmer_key in self.index.keys():\n",
    "                index_list.append(i)\n",
    "                self.index[kmer_key] = index_list\n",
    "            else:\n",
    "                update_index_list = self.index[kmer_key]\n",
    "                update_index_list.append(i)\n",
    "                self.index[kmer_key] = update_index_list\n",
    "\n",
    "    \n",
    "    #def query(self, p):\n",
    "    #    ''' Return index hits for first k-mer of P '''\n",
    "    #    kmer = p[:self.k]  # query with first k-mer\n",
    "    #    i = bisect.bisect_left(self.index, (kmer, -1))  # binary search\n",
    "    #    hits = []\n",
    "    #    while i < len(self.index):  # collect matching index entries\n",
    "    #        if self.index[i][0] != kmer:\n",
    "    #            break\n",
    "    #        hits.append(self.index[i][1])\n",
    "    #        i += 1\n",
    "    #    return hits\n",
    "    \n",
    "    # Young's version of query\n",
    "    def query(self, p):\n",
    "        ''' Return index hits for first k-mer of P '''\n",
    "        hits = []\n",
    "        kmer = p[:self.k]  # query with first k-mer\n",
    "        print(kmer)\n",
    "        if kmer in self.index.keys():\n",
    "            hits = self.index[kmer]\n",
    "        \n",
    "        return hits"
   ]
  },
  {
   "cell_type": "code",
   "execution_count": 38,
   "id": "2ade3707",
   "metadata": {},
   "outputs": [],
   "source": [
    "def queryIndex(p, t, index):\n",
    "    k = index.k\n",
    "    offsets = []\n",
    "    \n",
    "    qp = index.query(p)\n",
    "    print(qp)\n",
    "    \n",
    "    for i in index.query(p):\n",
    "        print(p[k:])\n",
    "        print(t[i+k:i+len(p)])\n",
    "        if p[k:] == t[i+k:i+len(p)]:  # verify that rest of P matches\n",
    "            offsets.append(i)\n",
    "    #return offsets"
   ]
  },
  {
   "cell_type": "code",
   "execution_count": 39,
   "id": "2e9855ec",
   "metadata": {},
   "outputs": [
    {
     "name": "stdout",
     "output_type": "stream",
     "text": [
      "GGTA\n",
      "[21, 68]\n",
      "GGTA\n",
      "TTCGGGA\n",
      "TTCGGGA\n",
      "TTCGGGA\n",
      "TTCGGGA\n",
      "None\n"
     ]
    }
   ],
   "source": [
    "t = 'ACTTGGAGATCTTTGAGGCTAGGTATTCGGGATCGAAGCTCATTTCGGGGATCGATTACGATATGGTGGGTATTCGGGA'\n",
    "p = 'GGTATTCGGGA'\n",
    "\n",
    "index = Index(t, 4)\n",
    "print(queryIndex(p, t, index))"
   ]
  },
  {
   "cell_type": "code",
   "execution_count": null,
   "id": "a612ed63",
   "metadata": {},
   "outputs": [],
   "source": []
  }
 ],
 "metadata": {
  "kernelspec": {
   "display_name": "Python 3 (ipykernel)",
   "language": "python",
   "name": "python3"
  },
  "language_info": {
   "codemirror_mode": {
    "name": "ipython",
    "version": 3
   },
   "file_extension": ".py",
   "mimetype": "text/x-python",
   "name": "python",
   "nbconvert_exporter": "python",
   "pygments_lexer": "ipython3",
   "version": "3.9.12"
  }
 },
 "nbformat": 4,
 "nbformat_minor": 5
}
