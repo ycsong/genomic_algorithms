{
 "cells": [
  {
   "cell_type": "code",
   "execution_count": 2,
   "id": "67a7f016",
   "metadata": {},
   "outputs": [],
   "source": [
    "seq = 'ACGT'"
   ]
  },
  {
   "cell_type": "code",
   "execution_count": 3,
   "id": "b896ec78",
   "metadata": {},
   "outputs": [],
   "source": [
    "seq_2 = \"ACGT\""
   ]
  },
  {
   "cell_type": "code",
   "execution_count": 4,
   "id": "95b0f98d",
   "metadata": {},
   "outputs": [
    {
     "data": {
      "text/plain": [
       "'C'"
      ]
     },
     "execution_count": 4,
     "metadata": {},
     "output_type": "execute_result"
    }
   ],
   "source": [
    "seq[1]"
   ]
  },
  {
   "cell_type": "code",
   "execution_count": 5,
   "id": "29ff9f76",
   "metadata": {},
   "outputs": [
    {
     "data": {
      "text/plain": [
       "4"
      ]
     },
     "execution_count": 5,
     "metadata": {},
     "output_type": "execute_result"
    }
   ],
   "source": [
    "len(seq)"
   ]
  },
  {
   "cell_type": "code",
   "execution_count": 6,
   "id": "a838dfad",
   "metadata": {},
   "outputs": [],
   "source": [
    "e = ''"
   ]
  },
  {
   "cell_type": "code",
   "execution_count": 7,
   "id": "28028215",
   "metadata": {},
   "outputs": [
    {
     "data": {
      "text/plain": [
       "0"
      ]
     },
     "execution_count": 7,
     "metadata": {},
     "output_type": "execute_result"
    }
   ],
   "source": [
    "len(e)"
   ]
  },
  {
   "cell_type": "code",
   "execution_count": 8,
   "id": "740bd0d9",
   "metadata": {},
   "outputs": [
    {
     "name": "stdout",
     "output_type": "stream",
     "text": [
      "ACCGCGGT\n"
     ]
    }
   ],
   "source": [
    "seq_a = 'ACCG'\n",
    "seq_b = 'CGGT'\n",
    "\n",
    "seq_concat = seq_a + seq_b\n",
    "print(seq_concat)"
   ]
  },
  {
   "cell_type": "code",
   "execution_count": 9,
   "id": "463eccd2",
   "metadata": {},
   "outputs": [
    {
     "name": "stdout",
     "output_type": "stream",
     "text": [
      "ACCGCGGT\n"
     ]
    }
   ],
   "source": [
    "seq_concat_by_join = ''.join([seq_a,seq_b])\n",
    "print(seq_concat_by_join)"
   ]
  },
  {
   "cell_type": "code",
   "execution_count": 3,
   "id": "0097df70",
   "metadata": {},
   "outputs": [],
   "source": [
    "import random"
   ]
  },
  {
   "cell_type": "code",
   "execution_count": 4,
   "id": "91f86bd4",
   "metadata": {},
   "outputs": [
    {
     "data": {
      "text/plain": [
       "'A'"
      ]
     },
     "execution_count": 4,
     "metadata": {},
     "output_type": "execute_result"
    }
   ],
   "source": [
    "#random.seed('7')  # gives the same behaviour\n",
    "random.choice('ACGT')"
   ]
  },
  {
   "cell_type": "code",
   "execution_count": 5,
   "id": "73188846",
   "metadata": {},
   "outputs": [
    {
     "name": "stdout",
     "output_type": "stream",
     "text": [
      "AGTGCCAACG\n"
     ]
    }
   ],
   "source": [
    "seq_ran_str = ''\n",
    "\n",
    "# '_' to indicate that we don't care about the indices we are at\n",
    "for _ in range(10):\n",
    "    seq_ran_str += random.choice('ACGT')\n",
    "\n",
    "print(seq_ran_str)"
   ]
  },
  {
   "cell_type": "code",
   "execution_count": 16,
   "id": "53df9c9c",
   "metadata": {},
   "outputs": [
    {
     "name": "stdout",
     "output_type": "stream",
     "text": [
      "CACGCTCGCC\n"
     ]
    }
   ],
   "source": [
    "# use join to create a string of random characters\n",
    "\n",
    "seq_ran_str_2 = ''.join([random.choice('ACGT') for _ in range(10)])\n",
    "print(seq_ran_str_2)"
   ]
  },
  {
   "cell_type": "code",
   "execution_count": 6,
   "id": "053f0333",
   "metadata": {},
   "outputs": [
    {
     "data": {
      "text/plain": [
       "'GTG'"
      ]
     },
     "execution_count": 6,
     "metadata": {},
     "output_type": "execute_result"
    }
   ],
   "source": [
    "seq_ran_str[1:4]"
   ]
  },
  {
   "cell_type": "code",
   "execution_count": 7,
   "id": "c996bd41",
   "metadata": {},
   "outputs": [
    {
     "data": {
      "text/plain": [
       "'AGTG'"
      ]
     },
     "execution_count": 7,
     "metadata": {},
     "output_type": "execute_result"
    }
   ],
   "source": [
    "# same as using 0 at the beginning\n",
    "seq_ran_str[:4]"
   ]
  },
  {
   "cell_type": "code",
   "execution_count": 8,
   "id": "c83914d2",
   "metadata": {},
   "outputs": [
    {
     "data": {
      "text/plain": [
       "'TGCCAACG'"
      ]
     },
     "execution_count": 8,
     "metadata": {},
     "output_type": "execute_result"
    }
   ],
   "source": [
    "seq_ran_str[2:len(seq_ran_str)]"
   ]
  },
  {
   "cell_type": "code",
   "execution_count": 9,
   "id": "cd83beb2",
   "metadata": {},
   "outputs": [
    {
     "data": {
      "text/plain": [
       "'ACG'"
      ]
     },
     "execution_count": 9,
     "metadata": {},
     "output_type": "execute_result"
    }
   ],
   "source": [
    "seq_ran_str[-3:]"
   ]
  },
  {
   "cell_type": "code",
   "execution_count": null,
   "id": "783f3a4d",
   "metadata": {},
   "outputs": [],
   "source": []
  }
 ],
 "metadata": {
  "kernelspec": {
   "display_name": "Python 3 (ipykernel)",
   "language": "python",
   "name": "python3"
  },
  "language_info": {
   "codemirror_mode": {
    "name": "ipython",
    "version": 3
   },
   "file_extension": ".py",
   "mimetype": "text/x-python",
   "name": "python",
   "nbconvert_exporter": "python",
   "pygments_lexer": "ipython3",
   "version": "3.9.12"
  }
 },
 "nbformat": 4,
 "nbformat_minor": 5
}
